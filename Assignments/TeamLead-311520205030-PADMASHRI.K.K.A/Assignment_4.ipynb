{
  "nbformat": 4,
  "nbformat_minor": 0,
  "metadata": {
    "colab": {
      "provenance": []
    },
    "kernelspec": {
      "name": "python3",
      "display_name": "Python 3"
    },
    "language_info": {
      "name": "python"
    }
  },
  "cells": [
    {
      "cell_type": "code",
      "execution_count": 6,
      "metadata": {
        "colab": {
          "base_uri": "https://localhost:8080/"
        },
        "id": "ZyZAl_89Co5S",
        "outputId": "50e2b287-838d-4e6d-e822-8c30e1c2eee3"
      },
      "outputs": [
        {
          "output_type": "stream",
          "name": "stdout",
          "text": [
            "The lists before joining !!!\n",
            "[1, 2, 3, 4, 5] \n",
            " [6, 7, 8, 9, 10] \n",
            "\n",
            "The list after joining : \n",
            " [1, 2, 3, 4, 5, 6, 7, 8, 9, 10]\n"
          ]
        }
      ],
      "source": [
        "#Assignment 4\n",
        "\n",
        "#Task 1\n",
        "#Create two list and join those two list\n",
        "a=[1,2,3,4,5]\n",
        "b=[6,7,8,9,10]\n",
        "print(\"The lists before joining !!!\")\n",
        "print(a,\"\\n\",b,\"\\n\")\n",
        "a=a+b\n",
        "print('The list after joining : \\n',a)\n",
        "\n"
      ]
    },
    {
      "cell_type": "code",
      "source": [
        "#Task 2\n",
        "n=int(input(\"Enter the value : \"))\n",
        "if(n%2==0):\n",
        "  print(\"Even\")\n",
        "else:\n",
        "  print(\"Odd\")"
      ],
      "metadata": {
        "colab": {
          "base_uri": "https://localhost:8080/"
        },
        "id": "qBBJIqdeFKq0",
        "outputId": "a51ec712-91e8-416c-8636-9c28297fcf0a"
      },
      "execution_count": 9,
      "outputs": [
        {
          "output_type": "stream",
          "name": "stdout",
          "text": [
            "Enter the value : 56\n",
            "Even\n"
          ]
        }
      ]
    },
    {
      "cell_type": "code",
      "source": [
        "#Task 3\n",
        "#Create a dictionary with 3 keys and 2 values for each key\n",
        "a={\n",
        "    '1':['Apple', 'Mango'],\n",
        "    '2':['Banana','Jackfruit'],\n",
        "    '3':['grapes','papaya']\n",
        "}\n",
        "print(a)\n",
        "print(type(a))"
      ],
      "metadata": {
        "colab": {
          "base_uri": "https://localhost:8080/"
        },
        "id": "v3815uspHy9s",
        "outputId": "c02b7df4-b21d-45ce-d745-ed75b0eb929a"
      },
      "execution_count": 10,
      "outputs": [
        {
          "output_type": "stream",
          "name": "stdout",
          "text": [
            "{'1': ['Apple', 'Mango'], '2': ['Banana', 'Jackfruit'], '3': ['grapes', 'papaya']}\n",
            "<class 'dict'>\n"
          ]
        }
      ]
    },
    {
      "cell_type": "code",
      "source": [
        "#Task 4\n",
        "#Create a function with If statement whis is used to find the odd numbers\n",
        "def odd(n):\n",
        "  if n%2!=0:\n",
        "    return \"Odd\"\n",
        "  else:\n",
        "    return \"Even\"\n",
        "print(odd(int(input(\"Enter the value : \"))))\n"
      ],
      "metadata": {
        "colab": {
          "base_uri": "https://localhost:8080/"
        },
        "id": "-mo4qzhjLfH1",
        "outputId": "15a32bde-ae7e-4a50-f194-dd370230461b"
      },
      "execution_count": 12,
      "outputs": [
        {
          "output_type": "stream",
          "name": "stdout",
          "text": [
            "Enter the value : 9999\n",
            "Odd\n"
          ]
        }
      ]
    },
    {
      "cell_type": "code",
      "source": [
        "#Task 5\n",
        "#Write a Python function to sum all the numbers in a list.\n",
        "\"\"\"Sample List : (8, 2, 3, 0, 7)\n",
        "Expected Output : 20\"\"\"\n",
        "a=[8, 2, 3, 0, 7]\n",
        "def sum1(b):\n",
        "  c=0\n",
        "  for i in b:\n",
        "    c=c+i\n",
        "  return c\n",
        "print(\"The Given list : \",a)\n",
        "print(\"Sum of values in list : \",sum1(a))"
      ],
      "metadata": {
        "colab": {
          "base_uri": "https://localhost:8080/"
        },
        "id": "pLnkgvbmMGAr",
        "outputId": "d88c2c7b-eefb-4f41-fce5-090008774f66"
      },
      "execution_count": 15,
      "outputs": [
        {
          "output_type": "stream",
          "name": "stdout",
          "text": [
            "The Given list :  [8, 2, 3, 0, 7]\n",
            "Sum of values in list :  20\n"
          ]
        }
      ]
    },
    {
      "cell_type": "code",
      "source": [],
      "metadata": {
        "id": "yAzJlUIbMfWC"
      },
      "execution_count": null,
      "outputs": []
    }
  ]
}